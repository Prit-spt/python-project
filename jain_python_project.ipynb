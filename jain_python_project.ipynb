{
 "cells": [
  {
   "cell_type": "code",
   "execution_count": 2,
   "metadata": {},
   "outputs": [
    {
     "ename": "ModuleNotFoundError",
     "evalue": "No module named 'pandas'",
     "output_type": "error",
     "traceback": [
      "\u001b[1;31m---------------------------------------------------------------------------\u001b[0m",
      "\u001b[1;31mModuleNotFoundError\u001b[0m                       Traceback (most recent call last)",
      "\u001b[1;32m~\\AppData\\Local\\Temp\\ipykernel_8432\\1961031048.py\u001b[0m in \u001b[0;36m<module>\u001b[1;34m\u001b[0m\n\u001b[0;32m      1\u001b[0m \u001b[1;32mfrom\u001b[0m \u001b[0mrandom\u001b[0m \u001b[1;32mimport\u001b[0m \u001b[0mrandint\u001b[0m\u001b[1;33m\u001b[0m\u001b[0m\n\u001b[0;32m      2\u001b[0m \u001b[1;32mfrom\u001b[0m \u001b[0mdatetime\u001b[0m \u001b[1;32mimport\u001b[0m \u001b[0mdatetime\u001b[0m\u001b[1;33m\u001b[0m\u001b[0m\n\u001b[1;32m----> 3\u001b[1;33m \u001b[1;32mimport\u001b[0m \u001b[0mpandas\u001b[0m \u001b[1;32mas\u001b[0m \u001b[0mpd\u001b[0m\u001b[1;33m\u001b[0m\u001b[0m\n\u001b[0m\u001b[0;32m      4\u001b[0m \u001b[1;32mimport\u001b[0m \u001b[0mmatplotlib\u001b[0m\u001b[1;33m.\u001b[0m\u001b[0mpyplot\u001b[0m \u001b[1;32mas\u001b[0m \u001b[0mplt\u001b[0m\u001b[1;33m\u001b[0m\u001b[0m\n\u001b[0;32m      5\u001b[0m \u001b[1;32mimport\u001b[0m \u001b[0mnumpy\u001b[0m \u001b[1;32mas\u001b[0m \u001b[0mnp\u001b[0m\u001b[1;33m\u001b[0m\u001b[0m\n",
      "\u001b[1;31mModuleNotFoundError\u001b[0m: No module named 'pandas'"
     ]
    }
   ],
   "source": [
    "from random import randint\n",
    "from datetime import datetime\n",
    "import pandas as pd\n",
    "import matplotlib.pyplot as plt\n",
    "import numpy as np\n",
    "import json\n",
    "import io\n",
    "import requests\n",
    "from time import sleep, time\n",
    "\n",
    "\n",
    "merge_result_stocks=pd.DataFrame()\n",
    "\n",
    "\n",
    "confirmed_cases_url = \"https://raw.githubusercontent.com/CSSEGISandData/COVID-19/master/csse_covid_19_data/csse_covid_19_time_series/time_series_covid19_confirmed_global.csv\"\n",
    "deaths_url = \"https://raw.githubusercontent.com/CSSEGISandData/COVID-19/master/csse_covid_19_data/csse_covid_19_time_series/time_series_covid19_deaths_global.csv\"\n",
    "\n",
    "read_confirmed_Cases = pd.read_csv(confirmed_cases_url)\n",
    "df = pd.DataFrame(read_confirmed_Cases)\n",
    "\n",
    "\n",
    "read_dead_Cases = pd.read_csv(deaths_url)\n",
    "df1 = pd.DataFrame(read_dead_Cases)\n",
    "\n",
    "\n",
    "\n",
    "confirmed_cases_melt = pd.melt(\n",
    "    df, id_vars=['Province/State', 'Country/Region', 'Lat', 'Long'])\n",
    "confirmed_cases_melt['variable'] = pd.to_datetime(\n",
    "    confirmed_cases_melt['variable'], format='%m/%d/%y')\n",
    "confirmed_cases_melt['variable'] = confirmed_cases_melt['variable'].astype(\n",
    "    'datetime64[ns]')\n",
    "confirmed_cases_melt = confirmed_cases_melt.rename(\n",
    "    columns={'variable': 'date', 'value': 'confirmedCases'})\n",
    "\n",
    "confirmed_cases_melt = confirmed_cases_melt.groupby('date', as_index=False)[\n",
    "                                                     'confirmedCases'].sum()\n",
    "\n",
    "\n",
    "dead_case_melt = pd.melt(\n",
    "    df1, id_vars=['Province/State', 'Country/Region', 'Lat', 'Long'])\n",
    "dead_case_melt['variable'] = pd.to_datetime(\n",
    "    dead_case_melt['variable'], format='%m/%d/%y')\n",
    "dead_case_melt['variable'] = dead_case_melt['variable'].astype(\n",
    "    'datetime64[ns]')\n",
    "dead_case_melt = dead_case_melt.rename(\n",
    "    columns={'variable': 'date', 'value': 'DeathCases'})\n",
    "\n",
    "dead_case_melt = dead_case_melt.groupby('date', as_index=False)[\n",
    "                                         'DeathCases'].sum()\n",
    "\n",
    "\n",
    "merge_data_sources = pd.merge(confirmed_cases_melt, dead_case_melt, on=['date'])\n",
    "print(merge_data_sources)\n",
    "\n",
    "f = open('creds.json')\n",
    "\n",
    "data = json.load(f)\n",
    "\n",
    "apiKey = data['apiKey']\n",
    "travelStock = data['travelStock']\n",
    "realEstateStock = data['realEstateStock']\n",
    "metalStock = data['metalStock']\n",
    "americanStock = data['americanStock']\n",
    "canadaStock = data['canadaStock']\n",
    "\n",
    "\n",
    "stocklists = []\n",
    "\n",
    "stocklists.append(americanStock)\n",
    "stocklists.append(canadaStock)\n",
    "stocklists.append(travelStock)\n",
    "stocklists.append(realEstateStock)\n",
    "stocklists.append(metalStock)\n",
    "\n",
    "URL = \"https://www.alphavantage.co/query?function=TIME_SERIES_DAILY&outputsize=full&apikey=\"+apiKey+\"&datatype=csv\"\n",
    "\n",
    "def API(URL,stock):\n",
    "    api = URL+\"&symbol=\"+stock\n",
    "    urldata = requests.get(api).content\n",
    "    stock_df = pd.DataFrame(pd.read_csv(io.StringIO(urldata.decode('utf-8'))))\n",
    "    if('timestamp' in stock_df):          \n",
    "          stock_df = stock_df.drop(columns=['open', 'volume'])\n",
    "          stock_df = stock_df.rename(columns={'timestamp': 'date'})\n",
    "          stock_df = stock_df.rename(columns={'high': stock+'_high'})\n",
    "          stock_df = stock_df.rename(columns={'low': stock+'_low'})\n",
    "          stock_df = stock_df.rename(columns={'close': stock+'_close'})\n",
    "          stock_df['date'] = stock_df['date'].astype('datetime64')\n",
    "          stock_df[stock] = stock\n",
    "          return stock_df     \n",
    "\n",
    "\n",
    "df1 = pd.concat([API(URL,x) for x in stocklists],sort=True).sort_index()\n",
    "merge_result_StockData = pd.merge(merge_data_sources, df1, on=['date'])\n",
    "stockdata_df=merge_result_StockData.fillna(\"N/A\")\n",
    "print(stockdata_df)\n",
    "\n",
    "\n",
    "       \n",
    "      "
   ]
  },
  {
   "cell_type": "code",
   "execution_count": null,
   "metadata": {},
   "outputs": [],
   "source": [
    "stockdata_df.to_csv('StockData.csv',index=False)"
   ]
  },
  {
   "cell_type": "code",
   "execution_count": 6,
   "metadata": {},
   "outputs": [
    {
     "ename": "SyntaxError",
     "evalue": "invalid syntax (1626392292.py, line 2)",
     "output_type": "error",
     "traceback": [
      "\u001b[1;36m  File \u001b[1;32m\"C:\\Users\\HP\\AppData\\Local\\Temp\\ipykernel_8432\\1626392292.py\"\u001b[1;36m, line \u001b[1;32m2\u001b[0m\n\u001b[1;33m    df = df[['confirmedCases','DeathCases','AAPL,'AAPL_close','AAPL_high','AAPL_low','AC','AC_close','AC_high', 'AC_low','AMT','AMT_close','AMT_high','AMT_low','NUE','NUE_close','NUE_high','NUE_low','SHOP','SHOP_close','SHOP_high','SHOP_low']]\u001b[0m\n\u001b[1;37m                                                           ^\u001b[0m\n\u001b[1;31mSyntaxError\u001b[0m\u001b[1;31m:\u001b[0m invalid syntax\n"
     ]
    }
   ],
   "source": [
    "df = pd.read_csv('StockData.csv')\n",
    "df = df[['confirmedCases','DeathCases','AAPL,'AAPL_close','AAPL_high','AAPL_low','AC','AC_close','AC_high', 'AC_low','AMT','AMT_close','AMT_high','AMT_low','NUE','NUE_close','NUE_high','NUE_low','SHOP','SHOP_close','SHOP_high','SHOP_low']]\n",
    "df.hist(figsize=(18,15),bins=31, linewidth='4',edgecolor='blue',grid=False)\n",
    "plt.show('confirmedCases','DeathCases')"
   ]
  },
  {
   "cell_type": "code",
   "execution_count": null,
   "metadata": {},
   "outputs": [],
   "source": [
    "df2 = df2[['AAPL_close','AAPL_high','AAPL_low']]\n",
    "df1.hist(figsize=(18,15),bins=31, linewidth='4',edgecolor='blue',grid=False)\n",
    "plt.show('AAPL_close','AAPL_high','AAPL_low')"
   ]
  }
 ],
 "metadata": {
  "interpreter": {
   "hash": "5bb63f943c474f2b75f376736147bc77253550da084676f06f1df6589414e54b"
  },
  "kernelspec": {
   "display_name": "Python 3 (ipykernel)",
   "language": "python",
   "name": "python3"
  },
  "language_info": {
   "codemirror_mode": {
    "name": "ipython",
    "version": 3
   },
   "file_extension": ".py",
   "mimetype": "text/x-python",
   "name": "python",
   "nbconvert_exporter": "python",
   "pygments_lexer": "ipython3",
   "version": "3.7.0"
  }
 },
 "nbformat": 4,
 "nbformat_minor": 2
}
